{
  "nbformat": 4,
  "nbformat_minor": 0,
  "metadata": {
    "colab": {
      "name": "Optiver_Realized_Volatility_Prediction.ipynb",
      "provenance": []
    },
    "kernelspec": {
      "name": "python3",
      "display_name": "Python 3"
    },
    "language_info": {
      "name": "python"
    }
  },
  "cells": [
    {
      "cell_type": "markdown",
      "metadata": {
        "id": "dndmAL0ts2Pm"
      },
      "source": [
        "# Optiver Realized Volatility Prediction\n",
        "\n",
        "## Apply your data science skills to make financial markets better\n"
      ]
    },
    {
      "cell_type": "markdown",
      "metadata": {
        "id": "ESrq7bQSs-nC"
      },
      "source": [
        "<a href= \"https://www.optiver.com/insights/guides/options-volatility/\">Volatility</a> is one of the most prominent terms you’ll hear on any trading floor – and for good reason. In financial markets, volatility captures the amount of fluctuation in prices. High volatility is associated to periods of market turbulence and to large price swings, while low volatility describes more calm and quiet markets. For trading firms like Optiver, accurately predicting volatility is essential for the trading of options, whose price is <a href= \"https://www.optiver.com/insights/guides/options-pricing/\">directly related to the volatility</a> of the underlying product."
      ]
    },
    {
      "cell_type": "markdown",
      "metadata": {
        "id": "AhhF9vQ3TVg0"
      },
      "source": [
        "## Understanding the data"
      ]
    },
    {
      "cell_type": "code",
      "metadata": {
        "id": "pTkacPR8o3in"
      },
      "source": [
        ""
      ],
      "execution_count": null,
      "outputs": []
    },
    {
      "cell_type": "code",
      "metadata": {
        "id": "2wrNCbois8Vj"
      },
      "source": [
        ""
      ],
      "execution_count": null,
      "outputs": []
    },
    {
      "cell_type": "markdown",
      "metadata": {
        "id": "DCjxXJi5Tg4c"
      },
      "source": [
        "## Selecting data"
      ]
    },
    {
      "cell_type": "code",
      "metadata": {
        "id": "pUFxz6PFThJ0"
      },
      "source": [
        ""
      ],
      "execution_count": null,
      "outputs": []
    },
    {
      "cell_type": "code",
      "metadata": {
        "id": "OMJ-U2PfThPZ"
      },
      "source": [
        ""
      ],
      "execution_count": null,
      "outputs": []
    },
    {
      "cell_type": "code",
      "metadata": {
        "id": "l6RGbORuThSn"
      },
      "source": [
        ""
      ],
      "execution_count": null,
      "outputs": []
    },
    {
      "cell_type": "markdown",
      "metadata": {
        "id": "2UbK1J0FTn-x"
      },
      "source": [
        "## Working on the models"
      ]
    },
    {
      "cell_type": "code",
      "metadata": {
        "id": "4AAFEjeoTm_N"
      },
      "source": [
        ""
      ],
      "execution_count": null,
      "outputs": []
    },
    {
      "cell_type": "code",
      "metadata": {
        "id": "14fhNAE_ThWZ"
      },
      "source": [
        ""
      ],
      "execution_count": null,
      "outputs": []
    },
    {
      "cell_type": "code",
      "metadata": {
        "id": "zNlKeKR5ThZy"
      },
      "source": [
        ""
      ],
      "execution_count": null,
      "outputs": []
    }
  ]
}