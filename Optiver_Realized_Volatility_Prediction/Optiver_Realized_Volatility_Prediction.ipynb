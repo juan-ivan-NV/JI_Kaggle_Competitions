{
  "nbformat": 4,
  "nbformat_minor": 0,
  "metadata": {
    "colab": {
      "name": "Optiver_Realized_Volatility_Prediction.ipynb",
      "provenance": []
    },
    "kernelspec": {
      "display_name": "Python 3",
      "name": "python3"
    },
    "language_info": {
      "name": "python"
    }
  },
  "cells": [
    {
      "cell_type": "markdown",
      "metadata": {
        "id": "dndmAL0ts2Pm"
      },
      "source": [
        "# Optiver Realized Volatility Prediction\n",
        "\n",
        "## Apply your data science skills to make financial markets better\n"
      ]
    },
    {
      "cell_type": "markdown",
      "metadata": {
        "id": "ESrq7bQSs-nC"
      },
      "source": [
        "<a href= \"https://www.optiver.com/insights/guides/options-volatility/\">Volatility</a> is one of the most prominent terms you’ll hear on any trading floor – and for good reason. In financial markets, volatility captures the amount of fluctuation in prices. High volatility is associated to periods of market turbulence and to large price swings, while low volatility describes more calm and quiet markets. For trading firms like Optiver, accurately predicting volatility is essential for the trading of options, whose price is <a href= \"https://www.optiver.com/insights/guides/options-pricing/\">directly related to the volatility</a> of the underlying product."
      ]
    },
    {
      "cell_type": "markdown",
      "metadata": {
        "id": "AhhF9vQ3TVg0"
      },
      "source": [
        "## Understanding the data"
      ]
    },
    {
      "cell_type": "code",
      "metadata": {
        "id": "pTkacPR8o3in"
      },
      "source": [
        "import pandas as pd\n",
        "import numpy as np\n",
        "import seaborn as sn"
      ],
      "execution_count": 1,
      "outputs": []
    },
    {
      "cell_type": "markdown",
      "metadata": {
        "id": "KVU-FMC_JNhU"
      },
      "source": [
        "train.csv The ground truth values for the training set.\n",
        "\n",
        "* stock_id - Same as above, but since this is a csv the column will load as an integer instead of categorical.\n",
        "\n",
        "* time_id - Same as above.\n",
        "\n",
        "* target - The realized volatility computed over the 10 minute window following the feature data under the same stock/time_id. There is no overlap between feature and target data. You can find more info in this <a href= \"https://www.kaggle.com/jiashenliu/introduction-to-financial-concepts-and-data?scriptVersionId=67183666#Competition-data\">tutorial notebook</a>."
      ]
    },
    {
      "cell_type": "code",
      "metadata": {
        "colab": {
          "base_uri": "https://localhost:8080/",
          "height": 391
        },
        "id": "2wrNCbois8Vj",
        "outputId": "8e0863bc-49f4-48c2-e316-16c484600b0a"
      },
      "source": [
        "train = pd.read_csv(\"drive/MyDrive/optiver-realized-volatility-prediction/train.csv\")\n",
        "print(train.info())\n",
        "train.head()"
      ],
      "execution_count": 2,
      "outputs": [
        {
          "output_type": "stream",
          "text": [
            "<class 'pandas.core.frame.DataFrame'>\n",
            "RangeIndex: 428932 entries, 0 to 428931\n",
            "Data columns (total 3 columns):\n",
            " #   Column    Non-Null Count   Dtype  \n",
            "---  ------    --------------   -----  \n",
            " 0   stock_id  428932 non-null  int64  \n",
            " 1   time_id   428932 non-null  int64  \n",
            " 2   target    428932 non-null  float64\n",
            "dtypes: float64(1), int64(2)\n",
            "memory usage: 9.8 MB\n",
            "None\n"
          ],
          "name": "stdout"
        },
        {
          "output_type": "execute_result",
          "data": {
            "text/html": [
              "<div>\n",
              "<style scoped>\n",
              "    .dataframe tbody tr th:only-of-type {\n",
              "        vertical-align: middle;\n",
              "    }\n",
              "\n",
              "    .dataframe tbody tr th {\n",
              "        vertical-align: top;\n",
              "    }\n",
              "\n",
              "    .dataframe thead th {\n",
              "        text-align: right;\n",
              "    }\n",
              "</style>\n",
              "<table border=\"1\" class=\"dataframe\">\n",
              "  <thead>\n",
              "    <tr style=\"text-align: right;\">\n",
              "      <th></th>\n",
              "      <th>stock_id</th>\n",
              "      <th>time_id</th>\n",
              "      <th>target</th>\n",
              "    </tr>\n",
              "  </thead>\n",
              "  <tbody>\n",
              "    <tr>\n",
              "      <th>0</th>\n",
              "      <td>0</td>\n",
              "      <td>5</td>\n",
              "      <td>0.004136</td>\n",
              "    </tr>\n",
              "    <tr>\n",
              "      <th>1</th>\n",
              "      <td>0</td>\n",
              "      <td>11</td>\n",
              "      <td>0.001445</td>\n",
              "    </tr>\n",
              "    <tr>\n",
              "      <th>2</th>\n",
              "      <td>0</td>\n",
              "      <td>16</td>\n",
              "      <td>0.002168</td>\n",
              "    </tr>\n",
              "    <tr>\n",
              "      <th>3</th>\n",
              "      <td>0</td>\n",
              "      <td>31</td>\n",
              "      <td>0.002195</td>\n",
              "    </tr>\n",
              "    <tr>\n",
              "      <th>4</th>\n",
              "      <td>0</td>\n",
              "      <td>62</td>\n",
              "      <td>0.001747</td>\n",
              "    </tr>\n",
              "  </tbody>\n",
              "</table>\n",
              "</div>"
            ],
            "text/plain": [
              "   stock_id  time_id    target\n",
              "0         0        5  0.004136\n",
              "1         0       11  0.001445\n",
              "2         0       16  0.002168\n",
              "3         0       31  0.002195\n",
              "4         0       62  0.001747"
            ]
          },
          "metadata": {
            "tags": []
          },
          "execution_count": 2
        }
      ]
    },
    {
      "cell_type": "code",
      "metadata": {
        "colab": {
          "base_uri": "https://localhost:8080/"
        },
        "id": "FKC0sHPP7Fyx",
        "outputId": "321c7e9c-6089-4b87-e143-ef4217a2b75d"
      },
      "source": [
        "id_count = pd.DataFrame(dftt.stock_id.value_counts()).sort_index()\n",
        "print(id_count)"
      ],
      "execution_count": null,
      "outputs": [
        {
          "output_type": "stream",
          "text": [
            "     stock_id\n",
            "0        3830\n",
            "1        3830\n",
            "2        3830\n",
            "3        3830\n",
            "4        3830\n",
            "..        ...\n",
            "122      3830\n",
            "123      3830\n",
            "124      3830\n",
            "125      3830\n",
            "126      3830\n",
            "\n",
            "[112 rows x 1 columns]\n"
          ],
          "name": "stdout"
        }
      ]
    },
    {
      "cell_type": "code",
      "metadata": {
        "colab": {
          "base_uri": "https://localhost:8080/",
          "height": 204
        },
        "id": "QSO98I07D-mr",
        "outputId": "70de1a2e-dd5a-4279-82bd-cfd42e95d1ea"
      },
      "source": [
        "dftt.tail()"
      ],
      "execution_count": null,
      "outputs": [
        {
          "output_type": "execute_result",
          "data": {
            "text/html": [
              "<div>\n",
              "<style scoped>\n",
              "    .dataframe tbody tr th:only-of-type {\n",
              "        vertical-align: middle;\n",
              "    }\n",
              "\n",
              "    .dataframe tbody tr th {\n",
              "        vertical-align: top;\n",
              "    }\n",
              "\n",
              "    .dataframe thead th {\n",
              "        text-align: right;\n",
              "    }\n",
              "</style>\n",
              "<table border=\"1\" class=\"dataframe\">\n",
              "  <thead>\n",
              "    <tr style=\"text-align: right;\">\n",
              "      <th></th>\n",
              "      <th>stock_id</th>\n",
              "      <th>time_id</th>\n",
              "      <th>target</th>\n",
              "    </tr>\n",
              "  </thead>\n",
              "  <tbody>\n",
              "    <tr>\n",
              "      <th>428927</th>\n",
              "      <td>126</td>\n",
              "      <td>32751</td>\n",
              "      <td>0.003461</td>\n",
              "    </tr>\n",
              "    <tr>\n",
              "      <th>428928</th>\n",
              "      <td>126</td>\n",
              "      <td>32753</td>\n",
              "      <td>0.003113</td>\n",
              "    </tr>\n",
              "    <tr>\n",
              "      <th>428929</th>\n",
              "      <td>126</td>\n",
              "      <td>32758</td>\n",
              "      <td>0.004070</td>\n",
              "    </tr>\n",
              "    <tr>\n",
              "      <th>428930</th>\n",
              "      <td>126</td>\n",
              "      <td>32763</td>\n",
              "      <td>0.003357</td>\n",
              "    </tr>\n",
              "    <tr>\n",
              "      <th>428931</th>\n",
              "      <td>126</td>\n",
              "      <td>32767</td>\n",
              "      <td>0.002090</td>\n",
              "    </tr>\n",
              "  </tbody>\n",
              "</table>\n",
              "</div>"
            ],
            "text/plain": [
              "        stock_id  time_id    target\n",
              "428927       126    32751  0.003461\n",
              "428928       126    32753  0.003113\n",
              "428929       126    32758  0.004070\n",
              "428930       126    32763  0.003357\n",
              "428931       126    32767  0.002090"
            ]
          },
          "metadata": {
            "tags": []
          },
          "execution_count": 5
        }
      ]
    },
    {
      "cell_type": "markdown",
      "metadata": {
        "id": "ykmwErWxKFA8"
      },
      "source": [
        "test.csv Provides the mapping between the other data files and the submission file. As with other test files, most of the data is only available to your notebook upon submission with just the first few rows available for download.\n",
        "\n",
        "\n",
        "* stock_id - Same as above.\n",
        "\n",
        "* time_id - Same as above.\n",
        "\n",
        "* row_id - Unique identifier for the submission row. There is one row for each existing time ID/stock ID pair. Each time window is not necessarily containing every individual stock."
      ]
    },
    {
      "cell_type": "code",
      "metadata": {
        "colab": {
          "base_uri": "https://localhost:8080/",
          "height": 329
        },
        "id": "NSJjP7MoEHqT",
        "outputId": "0c2dbccc-240a-40a6-c0f0-e967b14f290f"
      },
      "source": [
        "dfts = pd.read_csv(\"test.csv\")\n",
        "print(dfts.info())\n",
        "dfts.head()"
      ],
      "execution_count": null,
      "outputs": [
        {
          "output_type": "stream",
          "text": [
            "<class 'pandas.core.frame.DataFrame'>\n",
            "RangeIndex: 3 entries, 0 to 2\n",
            "Data columns (total 3 columns):\n",
            " #   Column    Non-Null Count  Dtype \n",
            "---  ------    --------------  ----- \n",
            " 0   stock_id  3 non-null      int64 \n",
            " 1   time_id   3 non-null      int64 \n",
            " 2   row_id    3 non-null      object\n",
            "dtypes: int64(2), object(1)\n",
            "memory usage: 200.0+ bytes\n",
            "None\n"
          ],
          "name": "stdout"
        },
        {
          "output_type": "execute_result",
          "data": {
            "text/html": [
              "<div>\n",
              "<style scoped>\n",
              "    .dataframe tbody tr th:only-of-type {\n",
              "        vertical-align: middle;\n",
              "    }\n",
              "\n",
              "    .dataframe tbody tr th {\n",
              "        vertical-align: top;\n",
              "    }\n",
              "\n",
              "    .dataframe thead th {\n",
              "        text-align: right;\n",
              "    }\n",
              "</style>\n",
              "<table border=\"1\" class=\"dataframe\">\n",
              "  <thead>\n",
              "    <tr style=\"text-align: right;\">\n",
              "      <th></th>\n",
              "      <th>stock_id</th>\n",
              "      <th>time_id</th>\n",
              "      <th>row_id</th>\n",
              "    </tr>\n",
              "  </thead>\n",
              "  <tbody>\n",
              "    <tr>\n",
              "      <th>0</th>\n",
              "      <td>0</td>\n",
              "      <td>4</td>\n",
              "      <td>0-4</td>\n",
              "    </tr>\n",
              "    <tr>\n",
              "      <th>1</th>\n",
              "      <td>0</td>\n",
              "      <td>32</td>\n",
              "      <td>0-32</td>\n",
              "    </tr>\n",
              "    <tr>\n",
              "      <th>2</th>\n",
              "      <td>0</td>\n",
              "      <td>34</td>\n",
              "      <td>0-34</td>\n",
              "    </tr>\n",
              "  </tbody>\n",
              "</table>\n",
              "</div>"
            ],
            "text/plain": [
              "   stock_id  time_id row_id\n",
              "0         0        4    0-4\n",
              "1         0       32   0-32\n",
              "2         0       34   0-34"
            ]
          },
          "metadata": {
            "tags": []
          },
          "execution_count": 6
        }
      ]
    },
    {
      "cell_type": "markdown",
      "metadata": {
        "id": "5hqvd10XNWxD"
      },
      "source": [
        "sample_submission.csv - A sample submission file in the correct format.\n",
        "\n",
        "* row_id - Same as in test.csv.\n",
        "\n",
        "* target - Same definition as in train.csv. The benchmark is using the median target value from train.csv."
      ]
    },
    {
      "cell_type": "code",
      "metadata": {
        "colab": {
          "base_uri": "https://localhost:8080/",
          "height": 312
        },
        "id": "vaEQW0yuEHxC",
        "outputId": "ccff3e89-f91f-424f-a33c-36baed6baa78"
      },
      "source": [
        "dfs = pd.read_csv(\"sample_submission.csv\")\n",
        "print(dfs.info())\n",
        "dfs.head()"
      ],
      "execution_count": null,
      "outputs": [
        {
          "output_type": "stream",
          "text": [
            "<class 'pandas.core.frame.DataFrame'>\n",
            "RangeIndex: 3 entries, 0 to 2\n",
            "Data columns (total 2 columns):\n",
            " #   Column  Non-Null Count  Dtype  \n",
            "---  ------  --------------  -----  \n",
            " 0   row_id  3 non-null      object \n",
            " 1   target  3 non-null      float64\n",
            "dtypes: float64(1), object(1)\n",
            "memory usage: 176.0+ bytes\n",
            "None\n"
          ],
          "name": "stdout"
        },
        {
          "output_type": "execute_result",
          "data": {
            "text/html": [
              "<div>\n",
              "<style scoped>\n",
              "    .dataframe tbody tr th:only-of-type {\n",
              "        vertical-align: middle;\n",
              "    }\n",
              "\n",
              "    .dataframe tbody tr th {\n",
              "        vertical-align: top;\n",
              "    }\n",
              "\n",
              "    .dataframe thead th {\n",
              "        text-align: right;\n",
              "    }\n",
              "</style>\n",
              "<table border=\"1\" class=\"dataframe\">\n",
              "  <thead>\n",
              "    <tr style=\"text-align: right;\">\n",
              "      <th></th>\n",
              "      <th>row_id</th>\n",
              "      <th>target</th>\n",
              "    </tr>\n",
              "  </thead>\n",
              "  <tbody>\n",
              "    <tr>\n",
              "      <th>0</th>\n",
              "      <td>0-4</td>\n",
              "      <td>0.003048</td>\n",
              "    </tr>\n",
              "    <tr>\n",
              "      <th>1</th>\n",
              "      <td>0-32</td>\n",
              "      <td>0.003048</td>\n",
              "    </tr>\n",
              "    <tr>\n",
              "      <th>2</th>\n",
              "      <td>0-34</td>\n",
              "      <td>0.003048</td>\n",
              "    </tr>\n",
              "  </tbody>\n",
              "</table>\n",
              "</div>"
            ],
            "text/plain": [
              "  row_id    target\n",
              "0    0-4  0.003048\n",
              "1   0-32  0.003048\n",
              "2   0-34  0.003048"
            ]
          },
          "metadata": {
            "tags": []
          },
          "execution_count": 12
        }
      ]
    },
    {
      "cell_type": "markdown",
      "metadata": {
        "id": "DCjxXJi5Tg4c"
      },
      "source": [
        "## Selecting data"
      ]
    },
    {
      "cell_type": "code",
      "metadata": {
        "id": "l6RGbORuThSn"
      },
      "source": [
        "import os\n",
        "from sklearn.metrics import r2_score\n",
        "import glob\n",
        "list_order_book_file_train = glob.glob('drive/MyDrive/optiver-realized-volatility-prediction/book_train.parquet/*')"
      ],
      "execution_count": 3,
      "outputs": []
    },
    {
      "cell_type": "markdown",
      "metadata": {
        "id": "gun4wK8QoOGw"
      },
      "source": [
        "### Log returns\n",
        "\n",
        "Returns are widely used in finance, however log returns are preferred whenever some mathematical modelling is required. Calling  St  the price of the stock  S  at time  t , we can define the log return between  t1  and  t2  as:\n",
        "\n",
        "rt1,t2=log(St2St1)"
      ]
    },
    {
      "cell_type": "code",
      "metadata": {
        "id": "e9mcjX1jkZkr"
      },
      "source": [
        "def log_return(list_stock_prices):\n",
        "    return np.log(list_stock_prices).diff() "
      ],
      "execution_count": 4,
      "outputs": []
    },
    {
      "cell_type": "markdown",
      "metadata": {
        "id": "yMPPRQD_mXDy"
      },
      "source": [
        "### Realized volatility\n",
        "\n",
        "When we trade options, a valuable input to our models is the standard deviation of the stock log returns. The standard deviation will be different for log returns computed over longer or shorter intervals, for this reason it is usually normalized to a 1-year period and the annualized standard deviation is called volatility.\n",
        "\n",
        "σ=(∑t (rt-1,t)↑2)↑(1/2)"
      ]
    },
    {
      "cell_type": "code",
      "metadata": {
        "id": "7JOBqVItkj-k"
      },
      "source": [
        "def realized_volatility(series_log_return):\n",
        "    return np.sqrt(np.sum(series_log_return**2))\n",
        "#realized_vol = realized_volatility(book_example['log_return'])\n",
        "#print(f'Realized volatility for stock_id 0 on time_id 5 is {realized_vol}')"
      ],
      "execution_count": 5,
      "outputs": []
    },
    {
      "cell_type": "code",
      "metadata": {
        "id": "Loy5TtTAjaWk"
      },
      "source": [
        "def realized_volatility_per_time_id(file_path, prediction_column_name):\n",
        "    \n",
        "    df_book_data = pd.read_parquet(file_path)\n",
        "    df_book_data['wap'] =(df_book_data['bid_price1'] * df_book_data['ask_size1']+df_book_data['ask_price1'] * df_book_data['bid_size1'])  / (\n",
        "                                      df_book_data['bid_size1']+ df_book_data[\n",
        "                                  'ask_size1'])\n",
        "    df_book_data['log_return'] = df_book_data.groupby(['time_id'])['wap'].apply(log_return)\n",
        "    df_book_data = df_book_data[~df_book_data['log_return'].isnull()]\n",
        "    df_realized_vol_per_stock =  pd.DataFrame(df_book_data.groupby(['time_id'])['log_return'].agg(realized_volatility)).reset_index()\n",
        "    df_realized_vol_per_stock = df_realized_vol_per_stock.rename(columns = {'log_return':prediction_column_name})\n",
        "    stock_id = file_path.split('=')[1]\n",
        "    df_realized_vol_per_stock['row_id'] = df_realized_vol_per_stock['time_id'].apply(lambda x:f'{stock_id}-{x}')\n",
        "    \n",
        "    return df_realized_vol_per_stock[['row_id',prediction_column_name]]"
      ],
      "execution_count": 6,
      "outputs": []
    },
    {
      "cell_type": "code",
      "metadata": {
        "id": "znyDeaRRjar9"
      },
      "source": [
        "def past_realized_volatility_per_stock(list_file,prediction_column_name):\n",
        "    \n",
        "    df_past_realized = pd.DataFrame()\n",
        "    for file in list_file:\n",
        "        df_past_realized = pd.concat([df_past_realized,\n",
        "                                     realized_volatility_per_time_id(file,prediction_column_name)])\n",
        "    \n",
        "    return df_past_realized\n",
        "\n",
        "df_past_realized_train = past_realized_volatility_per_stock(list_file=list_order_book_file_train,\n",
        "                                                           prediction_column_name='pred')"
      ],
      "execution_count": 7,
      "outputs": []
    },
    {
      "cell_type": "code",
      "metadata": {
        "id": "b3o0FmK3EFmO"
      },
      "source": [
        "# for a single file\n",
        "def realized_volatility_per_time_id_1(file_path, prediction_column_name):\n",
        "    \n",
        "    #df_book_data = pd.read_parquet(file_path)\n",
        "    df_book_data = pd.read_csv(file_path)\n",
        "    df_book_data['wap'] =(df_book_data['bid_price1'] * df_book_data['ask_size1']+df_book_data['ask_price1'] * df_book_data['bid_size1'])  / (\n",
        "                                      df_book_data['bid_size1']+ df_book_data[\n",
        "                                  'ask_size1'])\n",
        "    df_book_data['log_return'] = df_book_data.groupby(['time_id'])['wap'].apply(log_return)\n",
        "    df_book_data = df_book_data[~df_book_data['log_return'].isnull()]\n",
        "    df_realized_vol_per_stock =  pd.DataFrame(df_book_data.groupby(['time_id'])['log_return'].agg(realized_volatility)).reset_index()\n",
        "    df_realized_vol_per_stock = df_realized_vol_per_stock.rename(columns = {'log_return':prediction_column_name})\n",
        "    stock_id = file_path.split('=')[1]\n",
        "    df_realized_vol_per_stock['row_id'] = df_realized_vol_per_stock['time_id'].apply(lambda x:f'{stock_id}-{x}')\n",
        "    \n",
        "    return df_realized_vol_per_stock[['row_id',prediction_column_name]]\n",
        "\n",
        "def past_realized_volatility_per_stock_1(file_1,prediction_column_name):\n",
        "    \n",
        "    df_past_realized = pd.DataFrame()\n",
        "    #for file in list_file:\n",
        "    df_past_realized = pd.concat([df_past_realized,\n",
        "                                     realized_volatility_per_time_id_1(file_1,prediction_column_name)])\n",
        "    return df_past_realized"
      ],
      "execution_count": 14,
      "outputs": []
    },
    {
      "cell_type": "code",
      "metadata": {
        "colab": {
          "base_uri": "https://localhost:8080/",
          "height": 204
        },
        "id": "h0lTd997rS1f",
        "outputId": "38bdd344-b3d0-4130-953b-772336294fae"
      },
      "source": [
        "df_past_realized_train.head()"
      ],
      "execution_count": 8,
      "outputs": [
        {
          "output_type": "execute_result",
          "data": {
            "text/html": [
              "<div>\n",
              "<style scoped>\n",
              "    .dataframe tbody tr th:only-of-type {\n",
              "        vertical-align: middle;\n",
              "    }\n",
              "\n",
              "    .dataframe tbody tr th {\n",
              "        vertical-align: top;\n",
              "    }\n",
              "\n",
              "    .dataframe thead th {\n",
              "        text-align: right;\n",
              "    }\n",
              "</style>\n",
              "<table border=\"1\" class=\"dataframe\">\n",
              "  <thead>\n",
              "    <tr style=\"text-align: right;\">\n",
              "      <th></th>\n",
              "      <th>row_id</th>\n",
              "      <th>pred</th>\n",
              "    </tr>\n",
              "  </thead>\n",
              "  <tbody>\n",
              "    <tr>\n",
              "      <th>0</th>\n",
              "      <td>99-5</td>\n",
              "      <td>0.002085</td>\n",
              "    </tr>\n",
              "    <tr>\n",
              "      <th>1</th>\n",
              "      <td>99-11</td>\n",
              "      <td>0.001024</td>\n",
              "    </tr>\n",
              "    <tr>\n",
              "      <th>2</th>\n",
              "      <td>99-16</td>\n",
              "      <td>0.001888</td>\n",
              "    </tr>\n",
              "    <tr>\n",
              "      <th>3</th>\n",
              "      <td>99-31</td>\n",
              "      <td>0.001481</td>\n",
              "    </tr>\n",
              "    <tr>\n",
              "      <th>4</th>\n",
              "      <td>99-62</td>\n",
              "      <td>0.000994</td>\n",
              "    </tr>\n",
              "  </tbody>\n",
              "</table>\n",
              "</div>"
            ],
            "text/plain": [
              "  row_id      pred\n",
              "0   99-5  0.002085\n",
              "1  99-11  0.001024\n",
              "2  99-16  0.001888\n",
              "3  99-31  0.001481\n",
              "4  99-62  0.000994"
            ]
          },
          "metadata": {
            "tags": []
          },
          "execution_count": 8
        }
      ]
    },
    {
      "cell_type": "code",
      "metadata": {
        "id": "DLzOzwx3tDO3"
      },
      "source": [
        "# joining the output dataframe with train.csv to see the performance of the naive prediction on training set.\n",
        "\n",
        "train['row_id'] = train['stock_id'].astype(str) + '-' + train['time_id'].astype(str)\n",
        "train = train[['row_id','target']]\n",
        "df_joined = train.merge(df_past_realized_train[['row_id','pred']], on = ['row_id'], how = 'left')\n"
      ],
      "execution_count": 9,
      "outputs": []
    },
    {
      "cell_type": "code",
      "metadata": {
        "colab": {
          "base_uri": "https://localhost:8080/",
          "height": 204
        },
        "id": "CcaTqfxqtDVv",
        "outputId": "ecec0361-b306-4101-a414-e340b04f3cfd"
      },
      "source": [
        "df_joined.head()"
      ],
      "execution_count": 10,
      "outputs": [
        {
          "output_type": "execute_result",
          "data": {
            "text/html": [
              "<div>\n",
              "<style scoped>\n",
              "    .dataframe tbody tr th:only-of-type {\n",
              "        vertical-align: middle;\n",
              "    }\n",
              "\n",
              "    .dataframe tbody tr th {\n",
              "        vertical-align: top;\n",
              "    }\n",
              "\n",
              "    .dataframe thead th {\n",
              "        text-align: right;\n",
              "    }\n",
              "</style>\n",
              "<table border=\"1\" class=\"dataframe\">\n",
              "  <thead>\n",
              "    <tr style=\"text-align: right;\">\n",
              "      <th></th>\n",
              "      <th>row_id</th>\n",
              "      <th>target</th>\n",
              "      <th>pred</th>\n",
              "    </tr>\n",
              "  </thead>\n",
              "  <tbody>\n",
              "    <tr>\n",
              "      <th>0</th>\n",
              "      <td>0-5</td>\n",
              "      <td>0.004136</td>\n",
              "      <td>0.004499</td>\n",
              "    </tr>\n",
              "    <tr>\n",
              "      <th>1</th>\n",
              "      <td>0-11</td>\n",
              "      <td>0.001445</td>\n",
              "      <td>0.001204</td>\n",
              "    </tr>\n",
              "    <tr>\n",
              "      <th>2</th>\n",
              "      <td>0-16</td>\n",
              "      <td>0.002168</td>\n",
              "      <td>0.002369</td>\n",
              "    </tr>\n",
              "    <tr>\n",
              "      <th>3</th>\n",
              "      <td>0-31</td>\n",
              "      <td>0.002195</td>\n",
              "      <td>0.002574</td>\n",
              "    </tr>\n",
              "    <tr>\n",
              "      <th>4</th>\n",
              "      <td>0-62</td>\n",
              "      <td>0.001747</td>\n",
              "      <td>0.001894</td>\n",
              "    </tr>\n",
              "  </tbody>\n",
              "</table>\n",
              "</div>"
            ],
            "text/plain": [
              "  row_id    target      pred\n",
              "0    0-5  0.004136  0.004499\n",
              "1   0-11  0.001445  0.001204\n",
              "2   0-16  0.002168  0.002369\n",
              "3   0-31  0.002195  0.002574\n",
              "4   0-62  0.001747  0.001894"
            ]
          },
          "metadata": {
            "tags": []
          },
          "execution_count": 10
        }
      ]
    },
    {
      "cell_type": "code",
      "metadata": {
        "colab": {
          "base_uri": "https://localhost:8080/"
        },
        "id": "CwmBuc2ltDbb",
        "outputId": "7034b0f5-2d9f-455b-b1e4-79838893aef5"
      },
      "source": [
        "# Evaluating the naive prediction result by two metrics: RMSPE and R squared.\n",
        "\n",
        "from sklearn.metrics import r2_score\n",
        "def rmspe(y_true, y_pred):\n",
        "    return  (np.sqrt(np.mean(np.square((y_true - y_pred) / y_true))))\n",
        "R2 = round(r2_score(y_true = df_joined['target'], y_pred = df_joined['pred']),3)\n",
        "RMSPE = round(rmspe(y_true = df_joined['target'], y_pred = df_joined['pred']),3)\n",
        "print(f'Performance of the naive prediction: R2 score: {R2}, RMSPE: {RMSPE}')"
      ],
      "execution_count": 11,
      "outputs": [
        {
          "output_type": "stream",
          "text": [
            "Performance of the naive prediction: R2 score: 0.628, RMSPE: 0.341\n"
          ],
          "name": "stdout"
        }
      ]
    },
    {
      "cell_type": "code",
      "metadata": {
        "id": "hS1poKBdtDfg"
      },
      "source": [
        ""
      ],
      "execution_count": null,
      "outputs": []
    },
    {
      "cell_type": "markdown",
      "metadata": {
        "id": "2UbK1J0FTn-x"
      },
      "source": [
        "## Submission"
      ]
    },
    {
      "cell_type": "code",
      "metadata": {
        "id": "4AAFEjeoTm_N"
      },
      "source": [
        "list_order_book_file_test = glob.glob('drive/MyDrive/optiver-realized-volatility-prediction/book_test.parquet/*')\n",
        "df_naive_pred_test = past_realized_volatility_per_stock(list_file=list_order_book_file_test,\n",
        "                                                           prediction_column_name='target')\n",
        "df_naive_pred_test.to_csv('submission.csv',index = False)"
      ],
      "execution_count": 12,
      "outputs": []
    },
    {
      "cell_type": "code",
      "metadata": {
        "id": "14fhNAE_ThWZ",
        "colab": {
          "base_uri": "https://localhost:8080/",
          "height": 80
        },
        "outputId": "01834d1a-ff1f-4022-a6a9-3a55f073df4c"
      },
      "source": [
        "df_naive_pred_test.head()\n"
      ],
      "execution_count": 13,
      "outputs": [
        {
          "output_type": "execute_result",
          "data": {
            "text/html": [
              "<div>\n",
              "<style scoped>\n",
              "    .dataframe tbody tr th:only-of-type {\n",
              "        vertical-align: middle;\n",
              "    }\n",
              "\n",
              "    .dataframe tbody tr th {\n",
              "        vertical-align: top;\n",
              "    }\n",
              "\n",
              "    .dataframe thead th {\n",
              "        text-align: right;\n",
              "    }\n",
              "</style>\n",
              "<table border=\"1\" class=\"dataframe\">\n",
              "  <thead>\n",
              "    <tr style=\"text-align: right;\">\n",
              "      <th></th>\n",
              "      <th>row_id</th>\n",
              "      <th>target</th>\n",
              "    </tr>\n",
              "  </thead>\n",
              "  <tbody>\n",
              "    <tr>\n",
              "      <th>0</th>\n",
              "      <td>0-4</td>\n",
              "      <td>0.000294</td>\n",
              "    </tr>\n",
              "  </tbody>\n",
              "</table>\n",
              "</div>"
            ],
            "text/plain": [
              "  row_id    target\n",
              "0    0-4  0.000294"
            ]
          },
          "metadata": {
            "tags": []
          },
          "execution_count": 13
        }
      ]
    },
    {
      "cell_type": "code",
      "metadata": {
        "id": "zNlKeKR5ThZy"
      },
      "source": [
        ""
      ],
      "execution_count": null,
      "outputs": []
    },
    {
      "cell_type": "code",
      "metadata": {
        "colab": {
          "base_uri": "https://localhost:8080/",
          "height": 629
        },
        "id": "ysVrPNEu3EID",
        "outputId": "662c172b-0ced-4be3-ff95-1fa735dbd927"
      },
      "source": [
        "list_order_book_file_test = 'drive/MyDrive/optiver-realized-volatility-prediction/test.csv'\n",
        "df_naive_pred_test = past_realized_volatility_per_stock_1(file_1=list_order_book_file_test,\n",
        "                                                           prediction_column_name='target')\n",
        "df_naive_pred_test.to_csv('submission.csv',index = False)"
      ],
      "execution_count": 15,
      "outputs": [
        {
          "output_type": "error",
          "ename": "KeyError",
          "evalue": "ignored",
          "traceback": [
            "\u001b[0;31m---------------------------------------------------------------------------\u001b[0m",
            "\u001b[0;31mKeyError\u001b[0m                                  Traceback (most recent call last)",
            "\u001b[0;32m/usr/local/lib/python3.7/dist-packages/pandas/core/indexes/base.py\u001b[0m in \u001b[0;36mget_loc\u001b[0;34m(self, key, method, tolerance)\u001b[0m\n\u001b[1;32m   2897\u001b[0m             \u001b[0;32mtry\u001b[0m\u001b[0;34m:\u001b[0m\u001b[0;34m\u001b[0m\u001b[0;34m\u001b[0m\u001b[0m\n\u001b[0;32m-> 2898\u001b[0;31m                 \u001b[0;32mreturn\u001b[0m \u001b[0mself\u001b[0m\u001b[0;34m.\u001b[0m\u001b[0m_engine\u001b[0m\u001b[0;34m.\u001b[0m\u001b[0mget_loc\u001b[0m\u001b[0;34m(\u001b[0m\u001b[0mcasted_key\u001b[0m\u001b[0;34m)\u001b[0m\u001b[0;34m\u001b[0m\u001b[0;34m\u001b[0m\u001b[0m\n\u001b[0m\u001b[1;32m   2899\u001b[0m             \u001b[0;32mexcept\u001b[0m \u001b[0mKeyError\u001b[0m \u001b[0;32mas\u001b[0m \u001b[0merr\u001b[0m\u001b[0;34m:\u001b[0m\u001b[0;34m\u001b[0m\u001b[0;34m\u001b[0m\u001b[0m\n",
            "\u001b[0;32mpandas/_libs/index.pyx\u001b[0m in \u001b[0;36mpandas._libs.index.IndexEngine.get_loc\u001b[0;34m()\u001b[0m\n",
            "\u001b[0;32mpandas/_libs/index.pyx\u001b[0m in \u001b[0;36mpandas._libs.index.IndexEngine.get_loc\u001b[0;34m()\u001b[0m\n",
            "\u001b[0;32mpandas/_libs/hashtable_class_helper.pxi\u001b[0m in \u001b[0;36mpandas._libs.hashtable.PyObjectHashTable.get_item\u001b[0;34m()\u001b[0m\n",
            "\u001b[0;32mpandas/_libs/hashtable_class_helper.pxi\u001b[0m in \u001b[0;36mpandas._libs.hashtable.PyObjectHashTable.get_item\u001b[0;34m()\u001b[0m\n",
            "\u001b[0;31mKeyError\u001b[0m: 'bid_price1'",
            "\nThe above exception was the direct cause of the following exception:\n",
            "\u001b[0;31mKeyError\u001b[0m                                  Traceback (most recent call last)",
            "\u001b[0;32m<ipython-input-15-ab6371933969>\u001b[0m in \u001b[0;36m<module>\u001b[0;34m()\u001b[0m\n\u001b[1;32m      1\u001b[0m \u001b[0mlist_order_book_file_test\u001b[0m \u001b[0;34m=\u001b[0m \u001b[0;34m'drive/MyDrive/optiver-realized-volatility-prediction/test.csv'\u001b[0m\u001b[0;34m\u001b[0m\u001b[0;34m\u001b[0m\u001b[0m\n\u001b[1;32m      2\u001b[0m df_naive_pred_test = past_realized_volatility_per_stock_1(file_1=list_order_book_file_test,\n\u001b[0;32m----> 3\u001b[0;31m                                                            prediction_column_name='target')\n\u001b[0m\u001b[1;32m      4\u001b[0m \u001b[0mdf_naive_pred_test\u001b[0m\u001b[0;34m.\u001b[0m\u001b[0mto_csv\u001b[0m\u001b[0;34m(\u001b[0m\u001b[0;34m'submission.csv'\u001b[0m\u001b[0;34m,\u001b[0m\u001b[0mindex\u001b[0m \u001b[0;34m=\u001b[0m \u001b[0;32mFalse\u001b[0m\u001b[0;34m)\u001b[0m\u001b[0;34m\u001b[0m\u001b[0;34m\u001b[0m\u001b[0m\n",
            "\u001b[0;32m<ipython-input-14-eeef034fad62>\u001b[0m in \u001b[0;36mpast_realized_volatility_per_stock_1\u001b[0;34m(file_1, prediction_column_name)\u001b[0m\n\u001b[1;32m     21\u001b[0m     \u001b[0;31m#for file in list_file:\u001b[0m\u001b[0;34m\u001b[0m\u001b[0;34m\u001b[0m\u001b[0;34m\u001b[0m\u001b[0m\n\u001b[1;32m     22\u001b[0m     df_past_realized = pd.concat([df_past_realized,\n\u001b[0;32m---> 23\u001b[0;31m                                      realized_volatility_per_time_id_1(file_1,prediction_column_name)])\n\u001b[0m\u001b[1;32m     24\u001b[0m     \u001b[0;32mreturn\u001b[0m \u001b[0mdf_past_realized\u001b[0m\u001b[0;34m\u001b[0m\u001b[0;34m\u001b[0m\u001b[0m\n",
            "\u001b[0;32m<ipython-input-14-eeef034fad62>\u001b[0m in \u001b[0;36mrealized_volatility_per_time_id_1\u001b[0;34m(file_path, prediction_column_name)\u001b[0m\n\u001b[1;32m      4\u001b[0m     \u001b[0;31m#df_book_data = pd.read_parquet(file_path)\u001b[0m\u001b[0;34m\u001b[0m\u001b[0;34m\u001b[0m\u001b[0;34m\u001b[0m\u001b[0m\n\u001b[1;32m      5\u001b[0m     \u001b[0mdf_book_data\u001b[0m \u001b[0;34m=\u001b[0m \u001b[0mpd\u001b[0m\u001b[0;34m.\u001b[0m\u001b[0mread_csv\u001b[0m\u001b[0;34m(\u001b[0m\u001b[0mfile_path\u001b[0m\u001b[0;34m)\u001b[0m\u001b[0;34m\u001b[0m\u001b[0;34m\u001b[0m\u001b[0m\n\u001b[0;32m----> 6\u001b[0;31m     df_book_data['wap'] =(df_book_data['bid_price1'] * df_book_data['ask_size1']+df_book_data['ask_price1'] * df_book_data['bid_size1'])  / (\n\u001b[0m\u001b[1;32m      7\u001b[0m                                       df_book_data['bid_size1']+ df_book_data[\n\u001b[1;32m      8\u001b[0m                                   'ask_size1'])\n",
            "\u001b[0;32m/usr/local/lib/python3.7/dist-packages/pandas/core/frame.py\u001b[0m in \u001b[0;36m__getitem__\u001b[0;34m(self, key)\u001b[0m\n\u001b[1;32m   2904\u001b[0m             \u001b[0;32mif\u001b[0m \u001b[0mself\u001b[0m\u001b[0;34m.\u001b[0m\u001b[0mcolumns\u001b[0m\u001b[0;34m.\u001b[0m\u001b[0mnlevels\u001b[0m \u001b[0;34m>\u001b[0m \u001b[0;36m1\u001b[0m\u001b[0;34m:\u001b[0m\u001b[0;34m\u001b[0m\u001b[0;34m\u001b[0m\u001b[0m\n\u001b[1;32m   2905\u001b[0m                 \u001b[0;32mreturn\u001b[0m \u001b[0mself\u001b[0m\u001b[0;34m.\u001b[0m\u001b[0m_getitem_multilevel\u001b[0m\u001b[0;34m(\u001b[0m\u001b[0mkey\u001b[0m\u001b[0;34m)\u001b[0m\u001b[0;34m\u001b[0m\u001b[0;34m\u001b[0m\u001b[0m\n\u001b[0;32m-> 2906\u001b[0;31m             \u001b[0mindexer\u001b[0m \u001b[0;34m=\u001b[0m \u001b[0mself\u001b[0m\u001b[0;34m.\u001b[0m\u001b[0mcolumns\u001b[0m\u001b[0;34m.\u001b[0m\u001b[0mget_loc\u001b[0m\u001b[0;34m(\u001b[0m\u001b[0mkey\u001b[0m\u001b[0;34m)\u001b[0m\u001b[0;34m\u001b[0m\u001b[0;34m\u001b[0m\u001b[0m\n\u001b[0m\u001b[1;32m   2907\u001b[0m             \u001b[0;32mif\u001b[0m \u001b[0mis_integer\u001b[0m\u001b[0;34m(\u001b[0m\u001b[0mindexer\u001b[0m\u001b[0;34m)\u001b[0m\u001b[0;34m:\u001b[0m\u001b[0;34m\u001b[0m\u001b[0;34m\u001b[0m\u001b[0m\n\u001b[1;32m   2908\u001b[0m                 \u001b[0mindexer\u001b[0m \u001b[0;34m=\u001b[0m \u001b[0;34m[\u001b[0m\u001b[0mindexer\u001b[0m\u001b[0;34m]\u001b[0m\u001b[0;34m\u001b[0m\u001b[0;34m\u001b[0m\u001b[0m\n",
            "\u001b[0;32m/usr/local/lib/python3.7/dist-packages/pandas/core/indexes/base.py\u001b[0m in \u001b[0;36mget_loc\u001b[0;34m(self, key, method, tolerance)\u001b[0m\n\u001b[1;32m   2898\u001b[0m                 \u001b[0;32mreturn\u001b[0m \u001b[0mself\u001b[0m\u001b[0;34m.\u001b[0m\u001b[0m_engine\u001b[0m\u001b[0;34m.\u001b[0m\u001b[0mget_loc\u001b[0m\u001b[0;34m(\u001b[0m\u001b[0mcasted_key\u001b[0m\u001b[0;34m)\u001b[0m\u001b[0;34m\u001b[0m\u001b[0;34m\u001b[0m\u001b[0m\n\u001b[1;32m   2899\u001b[0m             \u001b[0;32mexcept\u001b[0m \u001b[0mKeyError\u001b[0m \u001b[0;32mas\u001b[0m \u001b[0merr\u001b[0m\u001b[0;34m:\u001b[0m\u001b[0;34m\u001b[0m\u001b[0;34m\u001b[0m\u001b[0m\n\u001b[0;32m-> 2900\u001b[0;31m                 \u001b[0;32mraise\u001b[0m \u001b[0mKeyError\u001b[0m\u001b[0;34m(\u001b[0m\u001b[0mkey\u001b[0m\u001b[0;34m)\u001b[0m \u001b[0;32mfrom\u001b[0m \u001b[0merr\u001b[0m\u001b[0;34m\u001b[0m\u001b[0;34m\u001b[0m\u001b[0m\n\u001b[0m\u001b[1;32m   2901\u001b[0m \u001b[0;34m\u001b[0m\u001b[0m\n\u001b[1;32m   2902\u001b[0m         \u001b[0;32mif\u001b[0m \u001b[0mtolerance\u001b[0m \u001b[0;32mis\u001b[0m \u001b[0;32mnot\u001b[0m \u001b[0;32mNone\u001b[0m\u001b[0;34m:\u001b[0m\u001b[0;34m\u001b[0m\u001b[0;34m\u001b[0m\u001b[0m\n",
            "\u001b[0;31mKeyError\u001b[0m: 'bid_price1'"
          ]
        }
      ]
    }
  ]
}