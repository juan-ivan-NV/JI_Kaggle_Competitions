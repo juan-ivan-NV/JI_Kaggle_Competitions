{
  "nbformat": 4,
  "nbformat_minor": 0,
  "metadata": {
    "colab": {
      "name": "Optiver_Realized_Volatility_Prediction.ipynb",
      "provenance": []
    },
    "kernelspec": {
      "name": "python3",
      "display_name": "Python 3"
    },
    "language_info": {
      "name": "python"
    }
  },
  "cells": [
    {
      "cell_type": "markdown",
      "metadata": {
        "id": "dndmAL0ts2Pm"
      },
      "source": [
        "# Optiver Realized Volatility Prediction\n",
        "\n",
        "## Apply your data science skills to make financial markets better\n"
      ]
    },
    {
      "cell_type": "markdown",
      "metadata": {
        "id": "ESrq7bQSs-nC"
      },
      "source": [
        "<a href= \"https://www.optiver.com/insights/guides/options-volatility/\">Volatility</a> is one of the most prominent terms you’ll hear on any trading floor – and for good reason. In financial markets, volatility captures the amount of fluctuation in prices. High volatility is associated to periods of market turbulence and to large price swings, while low volatility describes more calm and quiet markets. For trading firms like Optiver, accurately predicting volatility is essential for the trading of options, whose price is <a href= \"https://www.optiver.com/insights/guides/options-pricing/\">directly related to the volatility</a> of the underlying product."
      ]
    },
    {
      "cell_type": "markdown",
      "metadata": {
        "id": "AhhF9vQ3TVg0"
      },
      "source": [
        "## Understanding the data"
      ]
    },
    {
      "cell_type": "code",
      "metadata": {
        "id": "pTkacPR8o3in"
      },
      "source": [
        "import pandas as pd\n",
        "import numpy as np\n",
        "import seaborn as sn\n"
      ],
      "execution_count": 1,
      "outputs": []
    },
    {
      "cell_type": "code",
      "metadata": {
        "id": "2wrNCbois8Vj",
        "colab": {
          "base_uri": "https://localhost:8080/",
          "height": 391
        },
        "outputId": "f8f23931-09d9-45e4-e770-6e1ace35944b"
      },
      "source": [
        "dftt = pd.read_csv(\"train.csv\")\n",
        "print(dftt.info())\n",
        "dftt.head()"
      ],
      "execution_count": 3,
      "outputs": [
        {
          "output_type": "stream",
          "text": [
            "<class 'pandas.core.frame.DataFrame'>\n",
            "RangeIndex: 428932 entries, 0 to 428931\n",
            "Data columns (total 3 columns):\n",
            " #   Column    Non-Null Count   Dtype  \n",
            "---  ------    --------------   -----  \n",
            " 0   stock_id  428932 non-null  int64  \n",
            " 1   time_id   428932 non-null  int64  \n",
            " 2   target    428932 non-null  float64\n",
            "dtypes: float64(1), int64(2)\n",
            "memory usage: 9.8 MB\n",
            "None\n"
          ],
          "name": "stdout"
        },
        {
          "output_type": "execute_result",
          "data": {
            "text/html": [
              "<div>\n",
              "<style scoped>\n",
              "    .dataframe tbody tr th:only-of-type {\n",
              "        vertical-align: middle;\n",
              "    }\n",
              "\n",
              "    .dataframe tbody tr th {\n",
              "        vertical-align: top;\n",
              "    }\n",
              "\n",
              "    .dataframe thead th {\n",
              "        text-align: right;\n",
              "    }\n",
              "</style>\n",
              "<table border=\"1\" class=\"dataframe\">\n",
              "  <thead>\n",
              "    <tr style=\"text-align: right;\">\n",
              "      <th></th>\n",
              "      <th>stock_id</th>\n",
              "      <th>time_id</th>\n",
              "      <th>target</th>\n",
              "    </tr>\n",
              "  </thead>\n",
              "  <tbody>\n",
              "    <tr>\n",
              "      <th>0</th>\n",
              "      <td>0</td>\n",
              "      <td>5</td>\n",
              "      <td>0.004136</td>\n",
              "    </tr>\n",
              "    <tr>\n",
              "      <th>1</th>\n",
              "      <td>0</td>\n",
              "      <td>11</td>\n",
              "      <td>0.001445</td>\n",
              "    </tr>\n",
              "    <tr>\n",
              "      <th>2</th>\n",
              "      <td>0</td>\n",
              "      <td>16</td>\n",
              "      <td>0.002168</td>\n",
              "    </tr>\n",
              "    <tr>\n",
              "      <th>3</th>\n",
              "      <td>0</td>\n",
              "      <td>31</td>\n",
              "      <td>0.002195</td>\n",
              "    </tr>\n",
              "    <tr>\n",
              "      <th>4</th>\n",
              "      <td>0</td>\n",
              "      <td>62</td>\n",
              "      <td>0.001747</td>\n",
              "    </tr>\n",
              "  </tbody>\n",
              "</table>\n",
              "</div>"
            ],
            "text/plain": [
              "   stock_id  time_id    target\n",
              "0         0        5  0.004136\n",
              "1         0       11  0.001445\n",
              "2         0       16  0.002168\n",
              "3         0       31  0.002195\n",
              "4         0       62  0.001747"
            ]
          },
          "metadata": {
            "tags": []
          },
          "execution_count": 3
        }
      ]
    },
    {
      "cell_type": "code",
      "metadata": {
        "colab": {
          "base_uri": "https://localhost:8080/"
        },
        "id": "FKC0sHPP7Fyx",
        "outputId": "856c3728-c631-4f07-e79d-3d3fd0cdaaa3"
      },
      "source": [
        "id_count = pd.DataFrame(dftt.stock_id.value_counts()).sort_index()\n",
        "print(id_count)"
      ],
      "execution_count": 10,
      "outputs": [
        {
          "output_type": "stream",
          "text": [
            "     stock_id\n",
            "0        3830\n",
            "1        3830\n",
            "2        3830\n",
            "3        3830\n",
            "4        3830\n",
            "..        ...\n",
            "122      3830\n",
            "123      3830\n",
            "124      3830\n",
            "125      3830\n",
            "126      3830\n",
            "\n",
            "[112 rows x 1 columns]\n"
          ],
          "name": "stdout"
        }
      ]
    },
    {
      "cell_type": "code",
      "metadata": {
        "colab": {
          "base_uri": "https://localhost:8080/",
          "height": 204
        },
        "id": "QSO98I07D-mr",
        "outputId": "98257357-1459-4676-cd9a-14f9ee483838"
      },
      "source": [
        "dftt.tail()"
      ],
      "execution_count": 11,
      "outputs": [
        {
          "output_type": "execute_result",
          "data": {
            "text/html": [
              "<div>\n",
              "<style scoped>\n",
              "    .dataframe tbody tr th:only-of-type {\n",
              "        vertical-align: middle;\n",
              "    }\n",
              "\n",
              "    .dataframe tbody tr th {\n",
              "        vertical-align: top;\n",
              "    }\n",
              "\n",
              "    .dataframe thead th {\n",
              "        text-align: right;\n",
              "    }\n",
              "</style>\n",
              "<table border=\"1\" class=\"dataframe\">\n",
              "  <thead>\n",
              "    <tr style=\"text-align: right;\">\n",
              "      <th></th>\n",
              "      <th>stock_id</th>\n",
              "      <th>time_id</th>\n",
              "      <th>target</th>\n",
              "    </tr>\n",
              "  </thead>\n",
              "  <tbody>\n",
              "    <tr>\n",
              "      <th>428927</th>\n",
              "      <td>126</td>\n",
              "      <td>32751</td>\n",
              "      <td>0.003461</td>\n",
              "    </tr>\n",
              "    <tr>\n",
              "      <th>428928</th>\n",
              "      <td>126</td>\n",
              "      <td>32753</td>\n",
              "      <td>0.003113</td>\n",
              "    </tr>\n",
              "    <tr>\n",
              "      <th>428929</th>\n",
              "      <td>126</td>\n",
              "      <td>32758</td>\n",
              "      <td>0.004070</td>\n",
              "    </tr>\n",
              "    <tr>\n",
              "      <th>428930</th>\n",
              "      <td>126</td>\n",
              "      <td>32763</td>\n",
              "      <td>0.003357</td>\n",
              "    </tr>\n",
              "    <tr>\n",
              "      <th>428931</th>\n",
              "      <td>126</td>\n",
              "      <td>32767</td>\n",
              "      <td>0.002090</td>\n",
              "    </tr>\n",
              "  </tbody>\n",
              "</table>\n",
              "</div>"
            ],
            "text/plain": [
              "        stock_id  time_id    target\n",
              "428927       126    32751  0.003461\n",
              "428928       126    32753  0.003113\n",
              "428929       126    32758  0.004070\n",
              "428930       126    32763  0.003357\n",
              "428931       126    32767  0.002090"
            ]
          },
          "metadata": {
            "tags": []
          },
          "execution_count": 11
        }
      ]
    },
    {
      "cell_type": "code",
      "metadata": {
        "id": "4o8xMNTuEHjm"
      },
      "source": [
        ""
      ],
      "execution_count": null,
      "outputs": []
    },
    {
      "cell_type": "code",
      "metadata": {
        "id": "NSJjP7MoEHqT"
      },
      "source": [
        ""
      ],
      "execution_count": null,
      "outputs": []
    },
    {
      "cell_type": "code",
      "metadata": {
        "colab": {
          "base_uri": "https://localhost:8080/",
          "height": 312
        },
        "id": "vaEQW0yuEHxC",
        "outputId": "ccff3e89-f91f-424f-a33c-36baed6baa78"
      },
      "source": [
        "dfs = pd.read_csv(\"sample_submission.csv\")\n",
        "print(dfs.info())\n",
        "dfs.head()"
      ],
      "execution_count": 12,
      "outputs": [
        {
          "output_type": "stream",
          "text": [
            "<class 'pandas.core.frame.DataFrame'>\n",
            "RangeIndex: 3 entries, 0 to 2\n",
            "Data columns (total 2 columns):\n",
            " #   Column  Non-Null Count  Dtype  \n",
            "---  ------  --------------  -----  \n",
            " 0   row_id  3 non-null      object \n",
            " 1   target  3 non-null      float64\n",
            "dtypes: float64(1), object(1)\n",
            "memory usage: 176.0+ bytes\n",
            "None\n"
          ],
          "name": "stdout"
        },
        {
          "output_type": "execute_result",
          "data": {
            "text/html": [
              "<div>\n",
              "<style scoped>\n",
              "    .dataframe tbody tr th:only-of-type {\n",
              "        vertical-align: middle;\n",
              "    }\n",
              "\n",
              "    .dataframe tbody tr th {\n",
              "        vertical-align: top;\n",
              "    }\n",
              "\n",
              "    .dataframe thead th {\n",
              "        text-align: right;\n",
              "    }\n",
              "</style>\n",
              "<table border=\"1\" class=\"dataframe\">\n",
              "  <thead>\n",
              "    <tr style=\"text-align: right;\">\n",
              "      <th></th>\n",
              "      <th>row_id</th>\n",
              "      <th>target</th>\n",
              "    </tr>\n",
              "  </thead>\n",
              "  <tbody>\n",
              "    <tr>\n",
              "      <th>0</th>\n",
              "      <td>0-4</td>\n",
              "      <td>0.003048</td>\n",
              "    </tr>\n",
              "    <tr>\n",
              "      <th>1</th>\n",
              "      <td>0-32</td>\n",
              "      <td>0.003048</td>\n",
              "    </tr>\n",
              "    <tr>\n",
              "      <th>2</th>\n",
              "      <td>0-34</td>\n",
              "      <td>0.003048</td>\n",
              "    </tr>\n",
              "  </tbody>\n",
              "</table>\n",
              "</div>"
            ],
            "text/plain": [
              "  row_id    target\n",
              "0    0-4  0.003048\n",
              "1   0-32  0.003048\n",
              "2   0-34  0.003048"
            ]
          },
          "metadata": {
            "tags": []
          },
          "execution_count": 12
        }
      ]
    },
    {
      "cell_type": "code",
      "metadata": {
        "id": "KTYmy_bxEH3C"
      },
      "source": [
        ""
      ],
      "execution_count": null,
      "outputs": []
    },
    {
      "cell_type": "markdown",
      "metadata": {
        "id": "DCjxXJi5Tg4c"
      },
      "source": [
        "## Selecting data"
      ]
    },
    {
      "cell_type": "code",
      "metadata": {
        "id": "pUFxz6PFThJ0"
      },
      "source": [
        ""
      ],
      "execution_count": null,
      "outputs": []
    },
    {
      "cell_type": "code",
      "metadata": {
        "id": "OMJ-U2PfThPZ"
      },
      "source": [
        ""
      ],
      "execution_count": null,
      "outputs": []
    },
    {
      "cell_type": "code",
      "metadata": {
        "id": "l6RGbORuThSn"
      },
      "source": [
        ""
      ],
      "execution_count": null,
      "outputs": []
    },
    {
      "cell_type": "markdown",
      "metadata": {
        "id": "2UbK1J0FTn-x"
      },
      "source": [
        "## Working on the models"
      ]
    },
    {
      "cell_type": "code",
      "metadata": {
        "id": "4AAFEjeoTm_N"
      },
      "source": [
        ""
      ],
      "execution_count": null,
      "outputs": []
    },
    {
      "cell_type": "code",
      "metadata": {
        "id": "14fhNAE_ThWZ"
      },
      "source": [
        ""
      ],
      "execution_count": null,
      "outputs": []
    },
    {
      "cell_type": "code",
      "metadata": {
        "id": "zNlKeKR5ThZy"
      },
      "source": [
        ""
      ],
      "execution_count": null,
      "outputs": []
    }
  ]
}