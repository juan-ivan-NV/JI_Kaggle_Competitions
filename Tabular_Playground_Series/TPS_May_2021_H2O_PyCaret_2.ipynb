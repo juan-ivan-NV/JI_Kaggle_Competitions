{
  "nbformat": 4,
  "nbformat_minor": 0,
  "metadata": {
    "colab": {
      "name": "TPS_May_2021_H2O_PyCaret_2",
      "provenance": []
    },
    "kernelspec": {
      "name": "python3",
      "display_name": "Python 3"
    }
  },
  "cells": [
    {
      "cell_type": "markdown",
      "metadata": {
        "id": "t3uyaF48l5-6"
      },
      "source": [
        "### Data loading"
      ]
    },
    {
      "cell_type": "code",
      "metadata": {
        "id": "xVUCfQ14lzlJ"
      },
      "source": [
        "# Libraries\n",
        "import pandas as pd\n",
        "import numpy as np\n",
        "import matplotlib as mpl\n",
        "import matplotlib.pyplot as plt\n",
        "import seaborn as sns\n",
        "import plotly.express as px\n",
        "import plotly.graph_objects as go"
      ],
      "execution_count": null,
      "outputs": []
    },
    {
      "cell_type": "code",
      "metadata": {
        "id": "ZA43nSX82459"
      },
      "source": [
        "data_train = pd.read_csv('train.csv')\n",
        "data_test = pd.read_csv('test.csv')"
      ],
      "execution_count": null,
      "outputs": []
    },
    {
      "cell_type": "code",
      "metadata": {
        "id": "7x6S7Hnr26vr"
      },
      "source": [
        "data_train.head()"
      ],
      "execution_count": null,
      "outputs": []
    },
    {
      "cell_type": "code",
      "metadata": {
        "id": "w-CR78tq29g5"
      },
      "source": [
        "data_test.head()"
      ],
      "execution_count": null,
      "outputs": []
    },
    {
      "cell_type": "code",
      "metadata": {
        "id": "SHfU-XVX2_jc"
      },
      "source": [
        "# Droping id col\n",
        "data_train = data_train.drop('id', axis=1)\n",
        "data_test = data_test.drop('id', axis=1)"
      ],
      "execution_count": null,
      "outputs": []
    },
    {
      "cell_type": "code",
      "metadata": {
        "id": "J1y2d12I3CJP"
      },
      "source": [
        "# Features descriptive analysis.\n",
        "data_train.describe().T.style.bar(subset=['mean'], color='#205ff2')\\\n",
        "                            .background_gradient(subset=['std'], cmap='Reds')\\\n",
        "                            .background_gradient(subset=['50%'], cmap='RdPu')\\\n",
        "                            .background_gradient(subset=['max'], cmap='BuPu')"
      ],
      "execution_count": null,
      "outputs": []
    },
    {
      "cell_type": "code",
      "metadata": {
        "id": "GORygPTe3H67"
      },
      "source": [
        "# Target distribution\n",
        "target_counter = data_train.target.value_counts(sort=True, ascending=False)\n",
        "\n",
        "fig = go.Figure([go.Bar(x=target_counter.index, y=target_counter.values, marker_color='crimson')])\n",
        "fig.show()"
      ],
      "execution_count": null,
      "outputs": []
    },
    {
      "cell_type": "code",
      "metadata": {
        "id": "U-9hWUjk3Mvb"
      },
      "source": [
        "# Target column clasess into numbers\n",
        "\n",
        "label_dict = {val:idx for idx, val in enumerate(sorted(data_train['target'].unique()))}\n",
        "data_train['target'] = data_train['target'].map(label_dict)"
      ],
      "execution_count": null,
      "outputs": []
    },
    {
      "cell_type": "code",
      "metadata": {
        "id": "_sCtvqHI3O_L"
      },
      "source": [
        "# Scatterplot matrix\n",
        "\n",
        "fig, ax = plt.subplots(figsize=(19, 11))\n",
        "\n",
        "corr = data_train.corr()\n",
        "\n",
        "mask = np.zeros_like(corr, dtype=np.bool)\n",
        "mask[np.triu_indices_from(mask)] = True\n",
        "\n",
        "sns.heatmap(corr,\n",
        "        square = True, center=0, linewidth=0.2,\n",
        "        cmap = sns.color_palette(\"rocket_r\", as_cmap=True),\n",
        "        mask = mask, ax = ax) \n",
        "\n",
        "ax.set_title('Feature Correlation', loc='left', fontweight='bold')\n",
        "plt.show()"
      ],
      "execution_count": null,
      "outputs": []
    },
    {
      "cell_type": "markdown",
      "metadata": {
        "id": "kSFYfAPns2mR"
      },
      "source": [
        "### Outliers"
      ]
    },
    {
      "cell_type": "code",
      "metadata": {
        "id": "z4Ve3IXUl5JC"
      },
      "source": [
        "# Before\n",
        "x_data = data_train.columns\n",
        "\n",
        "N = len(data_train.columns) - 1\n",
        "\n",
        "y_data = [i.values for data_train[i] in data_train.columns ]\n",
        "\n",
        "colors = ['rgba(93, 164, 214, 0.5)', 'rgba(255, 144, 14, 0.5)', 'rgba(44, 160, 101, 0.5)',\n",
        "          'rgba(255, 65, 54, 0.5)', 'rgba(207, 114, 255, 0.5)', 'rgba(127, 96, 0, 0.5)']\n",
        "\n",
        "fig = go.Figure()\n",
        "\n",
        "for xd, yd, cls in zip(x_data, y_data, colors):\n",
        "        fig.add_trace(go.Box(\n",
        "            y=yd,\n",
        "            name=xd,\n",
        "            boxpoints='all',\n",
        "            jitter=0.5,\n",
        "            whiskerwidth=0.2,\n",
        "            fillcolor=cls,\n",
        "            marker_size=2,\n",
        "            line_width=1)\n",
        "        )\n",
        "\n",
        "fig.update_layout(\n",
        "    title='Points Scored by the Top 9 Scoring NBA Players in 2012',\n",
        "    yaxis=dict(\n",
        "        autorange=True,\n",
        "        showgrid=True,\n",
        "        zeroline=True,\n",
        "        dtick=5,\n",
        "        gridcolor='rgb(255, 255, 255)',\n",
        "        gridwidth=1,\n",
        "        zerolinecolor='rgb(255, 255, 255)',\n",
        "        zerolinewidth=2,\n",
        "    ),\n",
        "    margin=dict(\n",
        "        l=40,\n",
        "        r=30,\n",
        "        b=80,\n",
        "        t=100,\n",
        "    ),\n",
        "    paper_bgcolor='rgb(243, 243, 243)',\n",
        "    plot_bgcolor='rgb(243, 243, 243)',\n",
        "    showlegend=False\n",
        ")\n",
        "\n",
        "fig.show()"
      ],
      "execution_count": null,
      "outputs": []
    },
    {
      "cell_type": "code",
      "metadata": {
        "id": "R4OdB-yT3egl"
      },
      "source": [
        "# After"
      ],
      "execution_count": null,
      "outputs": []
    },
    {
      "cell_type": "markdown",
      "metadata": {
        "id": "sST6vWIptAs8"
      },
      "source": [
        "### Scaling data"
      ]
    },
    {
      "cell_type": "code",
      "metadata": {
        "id": "bf5LQ-LWs9wO"
      },
      "source": [
        ""
      ],
      "execution_count": null,
      "outputs": []
    },
    {
      "cell_type": "markdown",
      "metadata": {
        "id": "TJIsqPLZtK4C"
      },
      "source": [
        "### H2O"
      ]
    },
    {
      "cell_type": "code",
      "metadata": {
        "id": "7ZsF0JESs92m"
      },
      "source": [
        ""
      ],
      "execution_count": null,
      "outputs": []
    },
    {
      "cell_type": "markdown",
      "metadata": {
        "id": "7QErOETbtOob"
      },
      "source": [
        "### Grid searching and predictions"
      ]
    },
    {
      "cell_type": "code",
      "metadata": {
        "id": "ZbSlx2LUtTeq"
      },
      "source": [
        ""
      ],
      "execution_count": null,
      "outputs": []
    },
    {
      "cell_type": "markdown",
      "metadata": {
        "id": "zftuyzGvtUhQ"
      },
      "source": [
        "PyCaret"
      ]
    },
    {
      "cell_type": "code",
      "metadata": {
        "id": "255jMuJhtX3f"
      },
      "source": [
        ""
      ],
      "execution_count": null,
      "outputs": []
    }
  ]
}